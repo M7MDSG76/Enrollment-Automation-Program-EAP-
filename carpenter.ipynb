{
 "cells": [
  {
   "cell_type": "code",
   "execution_count": 1,
   "metadata": {},
   "outputs": [],
   "source": [
    "import openpyxl as xl\n",
    "import pandas as pd "
   ]
  },
  {
   "cell_type": "code",
   "execution_count": 2,
   "metadata": {},
   "outputs": [],
   "source": [
    "source = 'WB.xlsx'\n",
    "destination = 'WB2.xlsx'\n",
    "\n",
    "# loading two worksheets to transfer from one to another, and manipulate data.\n",
    "wb = xl.load_workbook(source)\n",
    "ws = wb.worksheets[0]\n",
    "\n",
    "wb1 = xl.load_workbook(destination)\n",
    "ws1 = wb1.worksheets[0]"
   ]
  },
  {
   "cell_type": "code",
   "execution_count": 69,
   "metadata": {},
   "outputs": [
    {
     "name": "stdout",
     "output_type": "stream",
     "text": [
      "A\n"
     ]
    }
   ],
   "source": [
    "# print one cell's value\n",
    "print(ws['A1'].value)"
   ]
  },
  {
   "cell_type": "code",
   "execution_count": 19,
   "metadata": {},
   "outputs": [
    {
     "name": "stdout",
     "output_type": "stream",
     "text": [
      "cell value:  10 <class 'int'>\n",
      "list:  [10, 3001, 22]\n",
      "cell value:  3001 <class 'int'>\n",
      "list:  [10, 3001, 22]\n",
      "cell value:  22 <class 'int'>\n",
      "list:  [10, 3001, 22]\n"
     ]
    }
   ],
   "source": [
    "# print range of cells's values\n",
    "cols_list = []\n",
    "rows_list = []\n",
    "for rows in ws1['A1:A4']:\n",
    "# rows type is: tuple.\n",
    "      rows_list.append(rows)\n",
    "#       print('row_list: ',rows_list)\n",
    "      \n",
    "      for cols in rows:\n",
    "#       cols type is: openpyxl.cell.cell.Cell \n",
    "        if type(cols.value) == str:\n",
    "            break\n",
    "        print('cell value: ',cols.value, type(cols.value))\n",
    "        cols_list.append(cols.value)\n",
    "        print('list: ', list)"
   ]
  },
  {
   "cell_type": "code",
   "execution_count": null,
   "metadata": {},
   "outputs": [],
   "source": []
  },
  {
   "cell_type": "code",
   "execution_count": null,
   "metadata": {},
   "outputs": [],
   "source": []
  }
 ],
 "metadata": {
  "kernelspec": {
   "display_name": "Python 3",
   "language": "python",
   "name": "python3"
  },
  "language_info": {
   "codemirror_mode": {
    "name": "ipython",
    "version": 3
   },
   "file_extension": ".py",
   "mimetype": "text/x-python",
   "name": "python",
   "nbconvert_exporter": "python",
   "pygments_lexer": "ipython3",
   "version": "3.8.3"
  }
 },
 "nbformat": 4,
 "nbformat_minor": 4
}
